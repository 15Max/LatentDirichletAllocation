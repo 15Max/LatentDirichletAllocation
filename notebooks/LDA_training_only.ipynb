{
  "cells": [
    {
      "cell_type": "markdown",
      "metadata": {},
      "source": [
        "## Latent Dirichlet Allocation"
      ]
    },
    {
      "cell_type": "code",
      "execution_count": 2,
      "metadata": {
        "id": "xgmokdyEiRlV"
      },
      "outputs": [],
      "source": [
        "from octis.models.LDA import LDA\n",
        "from octis.dataset.dataset import Dataset\n",
        "from octis.evaluation_metrics.diversity_metrics import TopicDiversity\n",
        "from octis.evaluation_metrics.coherence_metrics import Coherence\n",
        "from octis.optimization.optimizer import Optimizer\n",
        "from skopt.space.space import Real"
      ]
    },
    {
      "cell_type": "code",
      "execution_count": 3,
      "metadata": {
        "id": "Zv05olCwiRlW",
        "pycharm": {
          "name": "#%%\n"
        }
      },
      "outputs": [],
      "source": [
        "# Load the dataset\n",
        "dataset = Dataset()  \n",
        "dataset.fetch_dataset(\"20NewsGroup\")\n",
        "#dataset.load_custom_dataset_from_folder(\"data/processed\") # Our custom preprocessed dataset\n"
      ]
    },
    {
      "cell_type": "markdown",
      "metadata": {},
      "source": [
        "Make sure that the dataset is in the following format:\n",
        "corpus file: a .tsv file (tab-separated) that contains up to three columns, i.e. the document, the partitition, and the label associated to the document (optional).\n",
        "vocabulary: a .txt file where each line represents a word of the vocabulary\n",
        "The partition can be \"train\" for the training partition, \"test\" for testing partition, or \"val\" for the validation partition. An example of dataset can be found here: sample_dataset.\n",
        "\n"
      ]
    },
    {
      "cell_type": "code",
      "execution_count": 4,
      "metadata": {
        "id": "CC5N5nLBiRlW",
        "pycharm": {
          "name": "#%%\n"
        }
      },
      "outputs": [],
      "source": [
        "# Create Model\n",
        "model = LDA(num_topics=20, alpha=0.1)"
      ]
    },
    {
      "cell_type": "code",
      "execution_count": null,
      "metadata": {},
      "outputs": [],
      "source": [
        "\n",
        "\n",
        "# Define the search space. To see which hyperparameters to optimize, see the topic model's initialization signature\n",
        "search_space = {\"alpha\": Real(low=0.001, high=5.0), \"eta\": Real(low=0.001, high=5.0)}\n",
        "\n",
        "# Initialize an optimizer object and start the optimization.\n",
        "optimizer=Optimizer()\n",
        "optResult=optimizer.optimize(model, dataset, eval_metric, search_space, save_path=\"../results\" # path to store the results\n",
        "                             number_of_call=30, # number of optimization iterations\n",
        "                             model_runs=5) # number of runs of the topic model\n",
        "#save the results of th optimization in a csv file\n",
        "optResult.save_to_csv(\"results.csv\")"
      ]
    },
    {
      "cell_type": "markdown",
      "metadata": {
        "id": "ky2sTIyIlO28"
      },
      "source": [
        "Now we're ready to train it. See that the output of a topic model comes as a dictionary composed of 4 elements:\n",
        "\n",
        "\n",
        "*   *topics*: the list of word topics\n",
        "*   *topic-word-matrix*: the distribution of the words of the vocabulary for each topic (dimensions: |num topics| x |vocabulary|)\n",
        "*   *topic-document-matrix*: the distribution of the topics for each document of the training set (dimensions: |num topics| x |training documents|)\n",
        "*   *test-document-topic-matrix*: the distribution of the topics for each document of the testing set (dimensions: |num topics| x |test documents|)\n",
        "\n"
      ]
    },
    {
      "cell_type": "code",
      "execution_count": 5,
      "metadata": {
        "colab": {
          "base_uri": "https://localhost:8080/"
        },
        "id": "R_mboM91iRlX",
        "outputId": "f01b5a5e-036c-4bea-ae2f-f339ca9ba6d5"
      },
      "outputs": [
        {
          "name": "stderr",
          "output_type": "stream",
          "text": [
            "WARNING:gensim.models.ldamodel:too few updates, training might not converge; consider increasing the number of passes or iterations to improve accuracy\n"
          ]
        },
        {
          "name": "stdout",
          "output_type": "stream",
          "text": [
            "topic-word-matrix\n",
            "topics\n",
            "topic-document-matrix\n",
            "test-topic-document-matrix\n"
          ]
        }
      ],
      "source": [
        "# Train the model using default partitioning choice\n",
        "output = model.train_model(dataset)\n",
        "\n",
        "print(*list(output.keys()), sep=\"\\n\") # Print the output identifiers"
      ]
    },
    {
      "cell_type": "markdown",
      "metadata": {
        "id": "N3OIsmNjqY1m"
      },
      "source": [
        "For  examples, these are a sample of 5 topics. Do you think they make sense?"
      ]
    },
    {
      "cell_type": "code",
      "execution_count": 6,
      "metadata": {
        "colab": {
          "base_uri": "https://localhost:8080/"
        },
        "id": "k9PIWegniRlY",
        "outputId": "aacc01fd-3aef-44d3-c210-127d068161c5",
        "pycharm": {
          "name": "#%%\n"
        }
      },
      "outputs": [
        {
          "name": "stdout",
          "output_type": "stream",
          "text": [
            "science theory evidence disease case make scientific fact green sound\n",
            "key encryption clipper phone government chip law public system enforcement\n",
            "widget application font window version problem machine find set library\n",
            "make people time government find thing fire bit greek problem\n",
            "information list include paper report file make mail article address\n"
          ]
        }
      ],
      "source": [
        "for t in output['topics'][:5]:\n",
        "  print(\" \".join(t))"
      ]
    },
    {
      "cell_type": "markdown",
      "metadata": {
        "id": "oogVvO9jq4UZ"
      },
      "source": [
        "To check if the topics are coherent, we can use a topic coherence measure. The most used one is NPMI and it is available in OCTIS. We are going to use the dataset itself to compute it."
      ]
    },
    {
      "cell_type": "code",
      "execution_count": 7,
      "metadata": {
        "id": "e8uXU4_hrE3G"
      },
      "outputs": [],
      "source": [
        "# Initialize metric\n",
        "npmi = Coherence(texts=dataset.get_corpus(), topk=10, measure='c_npmi')"
      ]
    },
    {
      "cell_type": "markdown",
      "metadata": {
        "id": "8Itz2zvHmGVe"
      },
      "source": [
        "Or we can test if the resulting topics are different from each other. The `TopicDiversity` measure computes the number of unique words in the top-words of the resulting topics.\n",
        "\n"
      ]
    },
    {
      "cell_type": "code",
      "execution_count": 8,
      "metadata": {
        "id": "LY5ifLhriRlY",
        "pycharm": {
          "name": "#%%\n"
        }
      },
      "outputs": [],
      "source": [
        "# Initialize metric\n",
        "topic_diversity = TopicDiversity(topk=10)"
      ]
    },
    {
      "cell_type": "markdown",
      "metadata": {
        "id": "o-fpDuLCoC5P"
      },
      "source": [
        "And with the method `score`, we can get their actual evaluation score. Just use the output of the topic model as input of the method."
      ]
    },
    {
      "cell_type": "code",
      "execution_count": 9,
      "metadata": {
        "colab": {
          "base_uri": "https://localhost:8080/"
        },
        "id": "7dCL2fAOiRlZ",
        "outputId": "e57ce766-899c-42f3-8c7d-76b7cc4e79fc"
      },
      "outputs": [
        {
          "name": "stdout",
          "output_type": "stream",
          "text": [
            "Topic diversity: 0.69\n",
            "Coherence: 0.0669094052392269\n"
          ]
        }
      ],
      "source": [
        "# Retrieve metrics score\n",
        "topic_diversity_score = topic_diversity.score(output)\n",
        "print(\"Topic diversity: \"+str(topic_diversity_score))\n",
        "\n",
        "npmi_score = npmi.score(output)\n",
        "print(\"Coherence: \"+str(npmi_score))"
      ]
    }
  ],
  "metadata": {
    "colab": {
      "name": "LDA_training_only.ipynb",
      "provenance": []
    },
    "kernelspec": {
      "display_name": "Python 3",
      "language": "python",
      "name": "python3"
    },
    "language_info": {
      "codemirror_mode": {
        "name": "ipython",
        "version": 3
      },
      "file_extension": ".py",
      "mimetype": "text/x-python",
      "name": "python",
      "nbconvert_exporter": "python",
      "pygments_lexer": "ipython3",
      "version": "3.7.6"
    }
  },
  "nbformat": 4,
  "nbformat_minor": 0
}
