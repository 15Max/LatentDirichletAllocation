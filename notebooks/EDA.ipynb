{
 "cells": [
  {
   "cell_type": "markdown",
   "metadata": {},
   "source": [
    "# Exploratory Data Analysis (EDA) of the 500k English Song Lyrics Dataset\n",
    "\n",
    "## TO DO:\n",
    "\n",
    "- Controllo dati, ovvero check che non ci siano duplicati\n",
    "- Plot (istogramma) delle frequenze delle lunghezze delle parole per topic (cioè parole di 4 lettere magari sono più frequenti nei docs tech rispetto a politics).\n",
    "- Valutare se inserire alcune custom stopwords ulteriori (ad esempio year è molto presente)\n",
    "- Trasferire il codice utilizzato per fare i plots (sia qui che negli altri notebook) nel file `utils/graph_tool.py`"
   ]
  },
  {
   "cell_type": "code",
   "execution_count": 1,
   "metadata": {},
   "outputs": [],
   "source": [
    "import os\n",
    "import string\n",
    "import pandas as pd\n",
    "import spacy\n",
    "import numpy as np\n",
    "from octis.preprocessing.preprocessing import Preprocessing\n",
    "from octis.dataset.dataset import Dataset\n",
    "from tqdm import tqdm\n",
    "import matplotlib.pyplot as plt\n",
    "from collections import defaultdict\n"
   ]
  },
  {
   "cell_type": "code",
   "execution_count": 2,
   "metadata": {},
   "outputs": [],
   "source": [
    "# Get the current working directory\n",
    "\n",
    "current_directory = os.getcwd()\n",
    "parent_directory = os.path.dirname(current_directory)\n",
    "os.chdir(parent_directory)"
   ]
  },
  {
   "cell_type": "code",
   "execution_count": 3,
   "metadata": {},
   "outputs": [],
   "source": [
    "raw_data_path = 'data/raw/cleaned_train_lyrics.csv'\n",
    "df = pd.read_csv(raw_data_path)\n",
    "df = df.drop(columns=['Unnamed: 0'])\n",
    "df = df.rename(columns={'Lyric': 'lyrics'})\n"
   ]
  },
  {
   "cell_type": "code",
   "execution_count": 4,
   "metadata": {},
   "outputs": [
    {
     "data": {
      "text/html": [
       "<div>\n",
       "<style scoped>\n",
       "    .dataframe tbody tr th:only-of-type {\n",
       "        vertical-align: middle;\n",
       "    }\n",
       "\n",
       "    .dataframe tbody tr th {\n",
       "        vertical-align: top;\n",
       "    }\n",
       "\n",
       "    .dataframe thead th {\n",
       "        text-align: right;\n",
       "    }\n",
       "</style>\n",
       "<table border=\"1\" class=\"dataframe\">\n",
       "  <thead>\n",
       "    <tr style=\"text-align: right;\">\n",
       "      <th></th>\n",
       "      <th>lyrics</th>\n",
       "      <th>genre</th>\n",
       "    </tr>\n",
       "  </thead>\n",
       "  <tbody>\n",
       "    <tr>\n",
       "      <th>0</th>\n",
       "      <td>See me, ancient one! Dismal Tuat, Nergal unsaf...</td>\n",
       "      <td>Metal</td>\n",
       "    </tr>\n",
       "    <tr>\n",
       "      <th>1</th>\n",
       "      <td>Feels like Im covered in lies so turn off the ...</td>\n",
       "      <td>Metal</td>\n",
       "    </tr>\n",
       "    <tr>\n",
       "      <th>2</th>\n",
       "      <td>Works of art, painted black Magniloquent, blee...</td>\n",
       "      <td>Metal</td>\n",
       "    </tr>\n",
       "    <tr>\n",
       "      <th>3</th>\n",
       "      <td>Into the cage like an animal You must survive ...</td>\n",
       "      <td>Metal</td>\n",
       "    </tr>\n",
       "    <tr>\n",
       "      <th>4</th>\n",
       "      <td>Paralysed in pleasure I hear you call Lost my ...</td>\n",
       "      <td>Metal</td>\n",
       "    </tr>\n",
       "  </tbody>\n",
       "</table>\n",
       "</div>"
      ],
      "text/plain": [
       "                                              lyrics  genre\n",
       "0  See me, ancient one! Dismal Tuat, Nergal unsaf...  Metal\n",
       "1  Feels like Im covered in lies so turn off the ...  Metal\n",
       "2  Works of art, painted black Magniloquent, blee...  Metal\n",
       "3  Into the cage like an animal You must survive ...  Metal\n",
       "4  Paralysed in pleasure I hear you call Lost my ...  Metal"
      ]
     },
     "execution_count": 4,
     "metadata": {},
     "output_type": "execute_result"
    }
   ],
   "source": [
    "df.head()"
   ]
  },
  {
   "cell_type": "code",
   "execution_count": 5,
   "metadata": {},
   "outputs": [
    {
     "name": "stdout",
     "output_type": "stream",
     "text": [
      "lyrics    0\n",
      "genre     0\n",
      "dtype: int64\n"
     ]
    }
   ],
   "source": [
    "# Check for missing values\n",
    "print(df.isnull().sum())"
   ]
  },
  {
   "cell_type": "code",
   "execution_count": 6,
   "metadata": {},
   "outputs": [
    {
     "name": "stdout",
     "output_type": "stream",
     "text": [
      "<class 'pandas.core.frame.DataFrame'>\n",
      "RangeIndex: 500000 entries, 0 to 499999\n",
      "Data columns (total 2 columns):\n",
      " #   Column  Non-Null Count   Dtype \n",
      "---  ------  --------------   ----- \n",
      " 0   lyrics  500000 non-null  object\n",
      " 1   genre   500000 non-null  object\n",
      "dtypes: object(2)\n",
      "memory usage: 7.6+ MB\n",
      "None\n"
     ]
    }
   ],
   "source": [
    "# Get a summary of the dataset (number of records, data types)\n",
    "print(df.info())"
   ]
  },
  {
   "cell_type": "code",
   "execution_count": 7,
   "metadata": {},
   "outputs": [
    {
     "name": "stdout",
     "output_type": "stream",
     "text": [
      "                                                   lyrics   genre\n",
      "count                                              500000  500000\n",
      "unique                                             496343       5\n",
      "top     Silent night, holy night All is calm, all is b...   Metal\n",
      "freq                                                    6  100000\n"
     ]
    }
   ],
   "source": [
    "print(df.describe())"
   ]
  },
  {
   "cell_type": "markdown",
   "metadata": {},
   "source": [
    "### Pre-processing"
   ]
  },
  {
   "cell_type": "code",
   "execution_count": 8,
   "metadata": {},
   "outputs": [],
   "source": [
    "nlp = spacy.load('en_core_web_sm')"
   ]
  },
  {
   "cell_type": "code",
   "execution_count": 9,
   "metadata": {},
   "outputs": [],
   "source": [
    "from preprocessing.clean_text import *"
   ]
  },
  {
   "cell_type": "code",
   "execution_count": 11,
   "metadata": {},
   "outputs": [
    {
     "name": "stdout",
     "output_type": "stream",
     "text": [
      "Corpus has been saved to data/input_small\\corpus.txt\n",
      "Labels have been saved to data/input_small\\labels.txt\n"
     ]
    }
   ],
   "source": [
    "extract_corpus_and_labels_from_directory(base_path = 'data/bbc/', output_path = 'data/input')"
   ]
  },
  {
   "cell_type": "code",
   "execution_count": 12,
   "metadata": {},
   "outputs": [],
   "source": [
    "preprocessor = Preprocessing(lowercase=True,\n",
    "                             min_df = 10,\n",
    "                             max_df = 0.85,\n",
    "                             remove_punctuation=True,\n",
    "                             punctuation=string.punctuation,\n",
    "                             remove_numbers=True,\n",
    "                             lemmatize= True,\n",
    "                             stopword_list=CUSTOM_STOPWORDS,\n",
    "                             min_chars=3,\n",
    "                             min_words_docs=10,\n",
    "                             language='english',\n",
    "                             split=True,\n",
    "                             verbose=True)"
   ]
  },
  {
   "cell_type": "code",
   "execution_count": 13,
   "metadata": {},
   "outputs": [],
   "source": [
    "# Checks if dataset folder exists in processed, if not it processes the dataset. Otherwise it loads it\n",
    "if not os.path.exists('data/processed/dataset'):\n",
    "    dataset = preprocessor.preprocess_dataset(documents_path = 'data/input/corpus.txt',labels_path = 'data/input/labels.txt')\n",
    "    dataset.save('data/processed/dataset')\n",
    "else:\n",
    "    dataset = Dataset()\n",
    "    dataset.load_custom_dataset_from_folder('data/processed/dataset')"
   ]
  },
  {
   "cell_type": "markdown",
   "metadata": {},
   "source": [
    "### EDA on pre-processed data"
   ]
  },
  {
   "cell_type": "code",
   "execution_count": 14,
   "metadata": {},
   "outputs": [
    {
     "data": {
      "text/plain": [
       "{'total_documents': 500,\n",
       " 'vocabulary_length': 410,\n",
       " 'preprocessing-info': ['lowercase',\n",
       "  'remove_punctuation',\n",
       "  'lemmatize',\n",
       "  'filter words with document frequency lower than 20 and higher than 0.8',\n",
       "  'filter words with less than 3 character',\n",
       "  'filter documents with less than 10 words'],\n",
       " 'last-training-doc': 345,\n",
       " 'last-validation-doc': 419}"
      ]
     },
     "execution_count": 14,
     "metadata": {},
     "output_type": "execute_result"
    }
   ],
   "source": [
    "dataset.get_metadata()"
   ]
  },
  {
   "cell_type": "code",
   "execution_count": 21,
   "metadata": {},
   "outputs": [
    {
     "name": "stdout",
     "output_type": "stream",
     "text": [
      "         word  count\n",
      "0       about      1\n",
      "1       above      1\n",
      "2       after      1\n",
      "3       again      1\n",
      "4         air      1\n",
      "..        ...    ...\n",
      "405      year      1\n",
      "406       you      1\n",
      "407     young      1\n",
      "408      your      1\n",
      "409  yourself      1\n",
      "\n",
      "[410 rows x 2 columns]\n"
     ]
    }
   ],
   "source": [
    "from collections import Counter\n",
    "\n",
    "# Assuming vocab is a list\n",
    "vocab = dataset.get_vocabulary()\n",
    "\n",
    "# Step 1: Convert the list to a dictionary with word counts\n",
    "word_count = Counter(vocab)\n",
    "\n",
    "# Step 2: Convert the dictionary to a DataFrame\n",
    "word_count_df = pd.DataFrame.from_dict(word_count, orient='index', columns=['count'])\n",
    "\n",
    "# Step 3: Reset index to have words as a separate column\n",
    "word_count_df = word_count_df.reset_index().rename(columns={'index': 'word'})\n",
    "\n",
    "# Display the DataFrame\n",
    "print(word_count_df)"
   ]
  },
  {
   "cell_type": "code",
   "execution_count": 16,
   "metadata": {},
   "outputs": [
    {
     "data": {
      "image/png": "[encoded data removed]",
      "text/plain": [
       "<Figure size 1200x600 with 1 Axes>"
      ]
     },
     "metadata": {},
     "output_type": "display_data"
    }
   ],
   "source": [
    "# Get the vocabulary (which is a list of words)\n",
    "vocab = dataset.get_vocabulary()\n",
    "\n",
    "# Get the documents (list of lyrics) from the dataset\n",
    "documents = dataset.get_corpus()\n",
    "\n",
    "# Initialize a dictionary to count occurrences\n",
    "word_occurrences = defaultdict(int)\n",
    "\n",
    "# Count the number of times each word in the vocabulary appears in the lyrics\n",
    "for lyrics in documents:\n",
    "    for word in vocab:\n",
    "        word_occurrences[word] += lyrics.count(word)  # Count the occurrences of each vocabulary word\n",
    "\n",
    "# Convert to DataFrame\n",
    "word_count_df = pd.DataFrame.from_dict(word_occurrences, orient='index', columns=['count'])\n",
    "\n",
    "# Reset index to have words as a separate column\n",
    "word_count_df = word_count_df.reset_index().rename(columns={'index': 'word'})\n",
    "\n",
    "# Plot the histogram\n",
    "plt.figure(figsize=(12, 6))\n",
    "plt.hist(word_count_df['count'], bins=50, edgecolor='k')\n",
    "plt.xlabel('Word Occurrences')\n",
    "plt.ylabel('Number of Words')\n",
    "plt.title('Histogram of word occurrences in English Lyrics Dataset') \n",
    "plt.show()\n",
    "\n",
    "\n",
    "\n"
   ]
  }
 ],
 "metadata": {
  "kernelspec": {
   "display_name": "OCTIS",
   "language": "python",
   "name": "python3"
  },
  "language_info": {
   "codemirror_mode": {
    "name": "ipython",
    "version": 3
   },
   "file_extension": ".py",
   "mimetype": "text/x-python",
   "name": "python",
   "nbconvert_exporter": "python",
   "pygments_lexer": "ipython3",
   "version": "3.9.0"
  }
 },
 "nbformat": 4,
 "nbformat_minor": 2
}
