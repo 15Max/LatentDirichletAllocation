{
 "cells": [
  {
   "cell_type": "code",
   "execution_count": 1,
   "metadata": {},
   "outputs": [],
   "source": [
    "import os\n",
    "import pandas as pd"
   ]
  },
  {
   "cell_type": "code",
   "execution_count": 2,
   "metadata": {},
   "outputs": [],
   "source": [
    "current_directory = os.getcwd()\n",
    "parent_directory = os.path.dirname(current_directory)\n",
    "os.chdir(parent_directory)"
   ]
  },
  {
   "cell_type": "code",
   "execution_count": 3,
   "metadata": {},
   "outputs": [],
   "source": [
    "data_path = 'data/raw/cleaned_train_lyrics.csv'\n",
    "frac = 0.5\n",
    "output_path = 'data/colab'"
   ]
  },
  {
   "cell_type": "code",
   "execution_count": 4,
   "metadata": {},
   "outputs": [],
   "source": [
    "# Ensure the output directory exists\n",
    "os.makedirs(output_path, exist_ok=True)"
   ]
  },
  {
   "cell_type": "code",
   "execution_count": 5,
   "metadata": {},
   "outputs": [],
   "source": [
    "# Load the CSV file, drop useless column, and rename Lyrics to lyrics\n",
    "df = pd.read_csv(data_path)\n",
    "df = df.drop(columns=['Unnamed: 0'])\n",
    "df = df.rename(columns={'Lyric': 'lyrics'})\n",
    "\n",
    "# Check if the required columns exist\n",
    "if 'lyrics' not in df.columns or 'genre' not in df.columns:\n",
    "    raise ValueError(\"CSV file must contain 'lyrics' and 'genre' columns.\")\n",
    "\n",
    "# Sample a fraction of the dataset if frac < 1\n",
    "df = df.sample(frac=frac).reset_index(drop=True)"
   ]
  },
  {
   "cell_type": "code",
   "execution_count": 6,
   "metadata": {},
   "outputs": [
    {
     "name": "stdout",
     "output_type": "stream",
     "text": [
      "Reduced dataset saved to data/colab\\reduced_dataset.csv\n"
     ]
    }
   ],
   "source": [
    "reduced_datatset = os.path.join(output_path, 'reduced_dataset.csv')\n",
    "df.to_csv(reduced_datatset, index=False)\n",
    "\n",
    "print(f\"Reduced dataset saved to {reduced_datatset}\")"
   ]
  },
  {
   "cell_type": "code",
   "execution_count": 7,
   "metadata": {},
   "outputs": [
    {
     "name": "stdout",
     "output_type": "stream",
     "text": [
      "Reduced dataset saved to data/colab\\reduced_dataset.zip\n"
     ]
    }
   ],
   "source": [
    "# turn the reduced dataset into a zip format\n",
    "import zipfile\n",
    "\n",
    "zip_path = os.path.join(output_path, 'reduced_dataset.zip')\n",
    "with zipfile.ZipFile(zip_path, 'w') as z:\n",
    "    z.write(reduced_datatset, os.path.basename(reduced_datatset))\n",
    "\n",
    "print(f\"Reduced dataset saved to {zip_path}\")\n"
   ]
  }
 ],
 "metadata": {
  "kernelspec": {
   "display_name": "OCTIS",
   "language": "python",
   "name": "python3"
  },
  "language_info": {
   "codemirror_mode": {
    "name": "ipython",
    "version": 3
   },
   "file_extension": ".py",
   "mimetype": "text/x-python",
   "name": "python",
   "nbconvert_exporter": "python",
   "pygments_lexer": "ipython3",
   "version": "3.9.0"
  }
 },
 "nbformat": 4,
 "nbformat_minor": 2
}
